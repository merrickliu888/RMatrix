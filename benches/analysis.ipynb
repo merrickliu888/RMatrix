{
 "cells": [
  {
   "cell_type": "markdown",
   "metadata": {},
   "source": [
    "# Benchmarking NumPy, ndarray, and RMatrix"
   ]
  },
  {
   "cell_type": "code",
   "execution_count": 1,
   "metadata": {},
   "outputs": [],
   "source": [
    "import seaborn as sns\n",
    "import matplotlib.pyplot as plt\n",
    "from dataclasses import dataclass\n",
    "import json"
   ]
  },
  {
   "cell_type": "code",
   "execution_count": 3,
   "metadata": {},
   "outputs": [],
   "source": [
    "@dataclass\n",
    "class BenchmarkResults:\n",
    "    label: str\n",
    "    data: dict[str, list[float]]\n",
    "\n",
    "def visualize_results(results: list[BenchmarkResults]):\n",
    "    \"\"\"\n",
    "    Visualize the results of the benchmark tests.\n",
    "    \"\"\"\n",
    "    for result in results:\n",
    "        sns.lineplot(x=result.data['sizes'], y=result.data['times'], label=result.label)\n",
    "\n",
    "    plt.xlabel('Matrix Size (n x n)')\n",
    "    plt.ylabel('Time (seconds)')\n",
    "    plt.title('Performance Comparison')\n",
    "\n",
    "    plt.legend()\n",
    "    plt.show()"
   ]
  },
  {
   "cell_type": "code",
   "execution_count": 4,
   "metadata": {},
   "outputs": [],
   "source": [
    "def load_benchmark_results(filename: str) -> dict:\n",
    "    \"\"\"\n",
    "    Load the benchmark results from a json file\n",
    "    \"\"\"\n",
    "    benchmark_results = None\n",
    "    with open(filename, 'r') as f:\n",
    "        benchmark_results = json.load(f)\n",
    "    return benchmark_results"
   ]
  },
  {
   "cell_type": "markdown",
   "metadata": {},
   "source": [
    "## Addition"
   ]
  },
  {
   "cell_type": "markdown",
   "metadata": {},
   "source": [
    "## Subtraction"
   ]
  },
  {
   "cell_type": "markdown",
   "metadata": {},
   "source": [
    "## Matrix Multiplication"
   ]
  },
  {
   "cell_type": "markdown",
   "metadata": {},
   "source": [
    "## Scalar Multiplication"
   ]
  }
 ],
 "metadata": {
  "kernelspec": {
   "display_name": "rmatrix-18vTgJF8",
   "language": "python",
   "name": "python3"
  },
  "language_info": {
   "codemirror_mode": {
    "name": "ipython",
    "version": 3
   },
   "file_extension": ".py",
   "mimetype": "text/x-python",
   "name": "python",
   "nbconvert_exporter": "python",
   "pygments_lexer": "ipython3",
   "version": "3.11.9"
  }
 },
 "nbformat": 4,
 "nbformat_minor": 2
}

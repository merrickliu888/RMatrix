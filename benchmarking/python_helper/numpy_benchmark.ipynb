{
 "cells": [
  {
   "cell_type": "markdown",
   "metadata": {},
   "source": [
    "# Benchmarking NumPy"
   ]
  },
  {
   "cell_type": "code",
   "execution_count": 1,
   "metadata": {},
   "outputs": [],
   "source": [
    "import numpy as np\n",
    "import timeit\n",
    "import tqdm\n",
    "import json\n",
    "from typing import Callable"
   ]
  },
  {
   "cell_type": "code",
   "execution_count": 2,
   "metadata": {},
   "outputs": [],
   "source": [
    "def load_matrices(filename: str) -> list[np.ndarray]:\n",
    "    \"\"\"\n",
    "    Load a list of matrices from a json file\n",
    "    \"\"\"\n",
    "    with open(filename, 'r') as f:\n",
    "        return [np.array(matrix) for matrix in json.load(f)]"
   ]
  },
  {
   "cell_type": "code",
   "execution_count": 3,
   "metadata": {},
   "outputs": [],
   "source": [
    "def benchmark_numpy_op(matrices: list[np.ndarray], other: list[np.ndarray] | float, operation: Callable) -> dict[str, list[float]]:\n",
    "    \"\"\"\n",
    "    Benchmark the performance of a numpy operation\n",
    "    \"\"\"\n",
    "    sizes = []\n",
    "    times = []\n",
    "    for i in tqdm.tqdm(range(len(matrices)), desc=\"Benchmarking NumPy\"):\n",
    "        matrix = matrices[i]\n",
    "        other_operand = other[i] if isinstance(other, list) else other\n",
    "        sizes.append(matrix.shape[0])\n",
    "        time = timeit.timeit(lambda: operation(matrix, other_operand), number=10) / 10\n",
    "        times.append(time)\n",
    "\n",
    "    return {'sizes': sizes, 'times': times}\n",
    "\n",
    "def save_benchmark_results(filename: str, benchmark_results: dict):\n",
    "    \"\"\"\n",
    "    Save the benchmark results to a json file\n",
    "    \"\"\"\n",
    "    with open(filename, 'w') as f:\n",
    "        json.dump(benchmark_results, f)"
   ]
  },
  {
   "cell_type": "code",
   "execution_count": 4,
   "metadata": {},
   "outputs": [],
   "source": [
    "matrices1 = load_matrices(\"../matrices1.json\")\n",
    "matrices2 = load_matrices(\"../matrices2.json\")"
   ]
  },
  {
   "cell_type": "code",
   "execution_count": 5,
   "metadata": {},
   "outputs": [
    {
     "name": "stderr",
     "output_type": "stream",
     "text": [
      "Benchmarking NumPy: 100%|██████████| 100/100 [00:00<00:00, 802.10it/s]\n"
     ]
    }
   ],
   "source": [
    "# Addition\n",
    "def add(matrix1: np.ndarray, matrix2: np.ndarray) -> np.ndarray:\n",
    "    return matrix1 + matrix2\n",
    "\n",
    "matrix_addition_results = benchmark_numpy_op(matrices1, matrices2, add)"
   ]
  },
  {
   "cell_type": "code",
   "execution_count": 6,
   "metadata": {},
   "outputs": [
    {
     "name": "stderr",
     "output_type": "stream",
     "text": [
      "Benchmarking NumPy: 100%|██████████| 100/100 [00:00<00:00, 1206.40it/s]\n"
     ]
    }
   ],
   "source": [
    "# Subtraction\n",
    "def subtract(matrix1: np.ndarray, matrix2: np.ndarray) -> np.ndarray:\n",
    "    return matrix1 - matrix2\n",
    "\n",
    "matrix_subtraction_results = benchmark_numpy_op(matrices1, matrices2, subtract)"
   ]
  },
  {
   "cell_type": "code",
   "execution_count": 7,
   "metadata": {},
   "outputs": [
    {
     "name": "stderr",
     "output_type": "stream",
     "text": [
      "Benchmarking NumPy: 100%|██████████| 100/100 [00:01<00:00, 74.77it/s]\n"
     ]
    }
   ],
   "source": [
    "# Matrix Multiplication\n",
    "def multiply(matrix1: np.ndarray, matrix2: np.ndarray) -> np.ndarray:\n",
    "    return matrix1 @ matrix2\n",
    "\n",
    "matrix_multiplication_results = benchmark_numpy_op(matrices1, matrices2, multiply)"
   ]
  },
  {
   "cell_type": "code",
   "execution_count": 8,
   "metadata": {},
   "outputs": [
    {
     "name": "stderr",
     "output_type": "stream",
     "text": [
      "Benchmarking NumPy: 100%|██████████| 100/100 [00:00<00:00, 1424.64it/s]\n"
     ]
    }
   ],
   "source": [
    "# Scalar Multiplication\n",
    "def scalar_multiply(matrix: np.ndarray, scalar: float) -> np.ndarray:\n",
    "    return matrix * scalar\n",
    "\n",
    "scalar_multiplication_results = benchmark_numpy_op(matrices1, 1.5, scalar_multiply)"
   ]
  },
  {
   "cell_type": "code",
   "execution_count": 9,
   "metadata": {},
   "outputs": [],
   "source": [
    "# Saving benchmark results\n",
    "benchmark_results = {\n",
    "    \"matrix_addition\": matrix_addition_results,\n",
    "    \"matrix_subtraction\": matrix_subtraction_results,\n",
    "    \"matrix_multiplication\": matrix_multiplication_results,\n",
    "    \"scalar_multiplication\": scalar_multiplication_results\n",
    "}\n",
    "save_benchmark_results(\"../benchmark_results/numpy_matrix_results.json\", benchmark_results)"
   ]
  }
 ],
 "metadata": {
  "kernelspec": {
   "display_name": "rmatrix-18vTgJF8",
   "language": "python",
   "name": "python3"
  },
  "language_info": {
   "codemirror_mode": {
    "name": "ipython",
    "version": 3
   },
   "file_extension": ".py",
   "mimetype": "text/x-python",
   "name": "python",
   "nbconvert_exporter": "python",
   "pygments_lexer": "ipython3",
   "version": "3.11.9"
  }
 },
 "nbformat": 4,
 "nbformat_minor": 2
}
